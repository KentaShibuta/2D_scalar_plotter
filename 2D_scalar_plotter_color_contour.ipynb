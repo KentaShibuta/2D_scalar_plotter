{
  "nbformat": 4,
  "nbformat_minor": 0,
  "metadata": {
    "colab": {
      "name": "2D-scalar-plotter_color-contour.ipynb",
      "provenance": [],
      "collapsed_sections": []
    },
    "kernelspec": {
      "name": "python3",
      "display_name": "Python 3"
    }
  },
  "cells": [
    {
      "cell_type": "code",
      "metadata": {
        "id": "FRcJq5rnOmi4"
      },
      "source": [
        "!rm ./*.csv # 既にアップロードされているcsvファイルを削除\n",
        "!pip install pandas\n",
        "import numpy as np\n",
        "import pandas as pd\n",
        "import matplotlib.pyplot as plt\n",
        "from google.colab import files\n",
        "\n",
        "np.set_printoptions(threshold=np.inf)\n",
        "\n",
        "f_name = files.upload()\n",
        "\n",
        "for fn in f_name.keys():\n",
        "  print('User uploaded file \"{name}\" with length {length} bytes'.format(\n",
        "      name=fn, length=len(f_name[fn])))\n",
        "  \n",
        "  f_name = fn\n",
        "\n",
        "\n",
        "pd_para_data = pd.read_csv(f_name, nrows=1) # パラメータ\n",
        "data = np.loadtxt(f_name, delimiter=\",\", skiprows=3) #　節点値\n",
        "\n",
        "# パラメータの格納\n",
        "time_data = pd_para_data.iat[0,1]\n",
        "nnode = pd_para_data.iat[0,2]\n",
        "nelem = pd_para_data.iat[0,3]\n",
        "xnode = pd_para_data.iat[0,4]\n",
        "ynode = pd_para_data.iat[0,5]\n",
        "\n",
        "# 節点座標と節点値の格納\n",
        "x = data[:, 1]\n",
        "y = data[:, 2]\n",
        "t = data[:, 3]\n",
        "\n",
        "# カラーコンターでの可視化する値の幅を指定\n",
        "v_btm = 0\n",
        "v_top = 1.0\n",
        "t[t<v_btm]=v_btm\n",
        "t[t>v_top]=v_top\n",
        "\n",
        "# 節点座標と節点値の2次元配列を作成\n",
        "xx = x.reshape(xnode, ynode)\n",
        "yy = y.reshape(xnode, ynode)\n",
        "tt = t.reshape(xnode, ynode)\n",
        "\n",
        "X = np.array(xx)\n",
        "Y = np.array(yy)\n",
        "T = np.array(tt)\n",
        "\n",
        "levels = np.linspace(v_btm, v_top, 100)\n",
        "# 最小値，最大値を指定しない場合\n",
        "#plt.contourf(X, Y, T, 100, cmap = 'rainbow')\n",
        "# 最小値，最大値を指定する場合\n",
        "plt.contourf(X, Y, T, levels=levels, cmap = 'rainbow')\n",
        "plt.xlabel('$x$', fontsize=20)\n",
        "plt.ylabel('$y$', fontsize=20)\n",
        "plt.colorbar(ticks=[0,0.2,0.4,0.6,0.8,1.0], label='$\\phi$')\n",
        "plt.axes().set_aspect('equal')\n",
        "plt.show()"
      ],
      "execution_count": null,
      "outputs": []
    }
  ]
}